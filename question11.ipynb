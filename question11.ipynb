{
 "cells": [
  {
   "cell_type": "markdown",
   "id": "ca96986b-a6e5-4767-9b6b-72bb4e003f05",
   "metadata": {},
   "source": [
    "# Katherine Adolphs\n",
    "\n",
    "# Notebook for assignment 7"
   ]
  },
  {
   "cell_type": "code",
   "execution_count": 8,
   "id": "80ef068a-c738-4abf-bce6-d936c9f97588",
   "metadata": {},
   "outputs": [
    {
     "name": "stdout",
     "output_type": "stream",
     "text": [
      "5.0\n"
     ]
    }
   ],
   "source": [
    "def compute_mean(list):\n",
    "    print(sum(list)/len(list))\n",
    "\n",
    "compute_mean([2, 4, 6, 8])"
   ]
  },
  {
   "cell_type": "markdown",
   "id": "f404d544-6d1a-4edf-8273-bb2b35b5654c",
   "metadata": {},
   "source": [
    "The compute_mean function takes a list as an argument and prints the mean of the list.\n",
    "\n",
    "The mean is defined as: \n",
    "\n",
    "$$ \n",
    "\\begin{aligned}\n",
    "\\overline{x} = \\frac{ x_1 + x_2 +  ...  +  x_n }{n} = \\frac{1}{n} \\sum_{i=i}^{n} x_{i} \n",
    "\\end{aligned}\n",
    "$$"
   ]
  }
 ],
 "metadata": {
  "kernelspec": {
   "display_name": "Python 3 (ipykernel)",
   "language": "python",
   "name": "python3"
  },
  "language_info": {
   "codemirror_mode": {
    "name": "ipython",
    "version": 3
   },
   "file_extension": ".py",
   "mimetype": "text/x-python",
   "name": "python",
   "nbconvert_exporter": "python",
   "pygments_lexer": "ipython3",
   "version": "3.11.4"
  }
 },
 "nbformat": 4,
 "nbformat_minor": 5
}
